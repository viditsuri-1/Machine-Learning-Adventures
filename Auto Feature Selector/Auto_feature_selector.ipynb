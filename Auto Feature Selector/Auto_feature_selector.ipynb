{
 "cells": [
  {
   "cell_type": "markdown",
   "metadata": {},
   "source": [
    "# Task 7: AutoFeatureSelector Tool\n",
    "## This task is to test your understanding of various Feature Selection methods outlined in the lecture and the ability to apply this knowledge in a real-world dataset to select best features and also to build an automated feature selection tool as your toolkit\n",
    "\n",
    "### Use your knowledge of different feature selector methods to build an Automatic Feature Selection tool\n",
    "- Pearson Correlation\n",
    "- Chi-Square\n",
    "- RFE\n",
    "- Embedded\n",
    "- Tree (Random Forest)\n",
    "- Tree (Light GBM)"
   ]
  },
  {
   "cell_type": "markdown",
   "metadata": {},
   "source": [
    "### Dataset: FIFA 19 Player Skills\n",
    "#### Attributes: FIFA 2019 players attributes like Age, Nationality, Overall, Potential, Club, Value, Wage, Preferred Foot, International Reputation, Weak Foot, Skill Moves, Work Rate, Position, Jersey Number, Joined, Loaned From, Contract Valid Until, Height, Weight, LS, ST, RS, LW, LF, CF, RF, RW, LAM, CAM, RAM, LM, LCM, CM, RCM, RM, LWB, LDM, CDM, RDM, RWB, LB, LCB, CB, RCB, RB, Crossing, Finishing, Heading, Accuracy, ShortPassing, Volleys, Dribbling, Curve, FKAccuracy, LongPassing, BallControl, Acceleration, SprintSpeed, Agility, Reactions, Balance, ShotPower, Jumping, Stamina, Strength, LongShots, Aggression, Interceptions, Positioning, Vision, Penalties, Composure, Marking, StandingTackle, SlidingTackle, GKDiving, GKHandling, GKKicking, GKPositioning, GKReflexes, and Release Clause."
   ]
  },
  {
   "cell_type": "code",
   "execution_count": 1,
   "metadata": {},
   "outputs": [],
   "source": [
    "#%matplotlib inline\n",
    "import numpy as np\n",
    "import pandas as pd \n",
    "import seaborn as sns\n",
    "import matplotlib.pyplot as plt\n",
    "import scipy.stats as ss\n",
    "from collections import Counter\n",
    "import math\n",
    "from scipy import stats"
   ]
  },
  {
   "cell_type": "code",
   "execution_count": 3,
   "metadata": {},
   "outputs": [],
   "source": [
    "player_df = pd.read_csv(r\"C:\\Users\\vidit\\Desktop\\AI Development\\ML 1\\Task 7\\fifa19.csv\")"
   ]
  },
  {
   "cell_type": "code",
   "execution_count": 4,
   "metadata": {},
   "outputs": [],
   "source": [
    "numcols = ['Overall', 'Crossing','Finishing',  'ShortPassing',  'Dribbling','LongPassing', 'BallControl', 'Acceleration','SprintSpeed','Agility','Stamina','Volleys','FKAccuracy','Reactions','Balance','ShotPower','Strength','LongShots','Aggression','Interceptions']\n",
    "\n",
    "# Removing nationality on request during lectures\n",
    "catcols = ['Preferred Foot','Position','Body Type','Weak Foot'] # 'Nationality'"
   ]
  },
  {
   "cell_type": "code",
   "execution_count": 5,
   "metadata": {},
   "outputs": [],
   "source": [
    "player_df = player_df[numcols+catcols]"
   ]
  },
  {
   "cell_type": "code",
   "execution_count": 6,
   "metadata": {},
   "outputs": [],
   "source": [
    "traindf = pd.concat([player_df[numcols], pd.get_dummies(player_df[catcols])],axis=1)\n",
    "features = traindf.columns\n",
    "\n",
    "traindf = traindf.dropna()"
   ]
  },
  {
   "cell_type": "code",
   "execution_count": 7,
   "metadata": {},
   "outputs": [
    {
     "data": {
      "text/plain": [
       "Index(['Overall', 'Crossing', 'Finishing', 'ShortPassing', 'Dribbling',\n",
       "       'LongPassing', 'BallControl', 'Acceleration', 'SprintSpeed', 'Agility',\n",
       "       'Stamina', 'Volleys', 'FKAccuracy', 'Reactions', 'Balance', 'ShotPower',\n",
       "       'Strength', 'LongShots', 'Aggression', 'Interceptions', 'Weak Foot',\n",
       "       'Preferred Foot_Left', 'Preferred Foot_Right', 'Position_CAM',\n",
       "       'Position_CB', 'Position_CDM', 'Position_CF', 'Position_CM',\n",
       "       'Position_GK', 'Position_LAM', 'Position_LB', 'Position_LCB',\n",
       "       'Position_LCM', 'Position_LDM', 'Position_LF', 'Position_LM',\n",
       "       'Position_LS', 'Position_LW', 'Position_LWB', 'Position_RAM',\n",
       "       'Position_RB', 'Position_RCB', 'Position_RCM', 'Position_RDM',\n",
       "       'Position_RF', 'Position_RM', 'Position_RS', 'Position_RW',\n",
       "       'Position_RWB', 'Position_ST', 'Body Type_Akinfenwa',\n",
       "       'Body Type_C. Ronaldo', 'Body Type_Courtois', 'Body Type_Lean',\n",
       "       'Body Type_Messi', 'Body Type_Neymar', 'Body Type_Normal',\n",
       "       'Body Type_PLAYER_BODY_TYPE_25', 'Body Type_Shaqiri',\n",
       "       'Body Type_Stocky'],\n",
       "      dtype='object')"
      ]
     },
     "execution_count": 7,
     "metadata": {},
     "output_type": "execute_result"
    }
   ],
   "source": [
    "features"
   ]
  },
  {
   "cell_type": "code",
   "execution_count": 8,
   "metadata": {},
   "outputs": [],
   "source": [
    "traindf = pd.DataFrame(traindf,columns=features)"
   ]
  },
  {
   "cell_type": "code",
   "execution_count": 9,
   "metadata": {},
   "outputs": [],
   "source": [
    "y = traindf['Overall']>=87\n",
    "X = traindf.copy()\n",
    "del X['Overall']"
   ]
  },
  {
   "cell_type": "code",
   "execution_count": 10,
   "metadata": {},
   "outputs": [
    {
     "data": {
      "text/html": [
       "<div>\n",
       "<style scoped>\n",
       "    .dataframe tbody tr th:only-of-type {\n",
       "        vertical-align: middle;\n",
       "    }\n",
       "\n",
       "    .dataframe tbody tr th {\n",
       "        vertical-align: top;\n",
       "    }\n",
       "\n",
       "    .dataframe thead th {\n",
       "        text-align: right;\n",
       "    }\n",
       "</style>\n",
       "<table border=\"1\" class=\"dataframe\">\n",
       "  <thead>\n",
       "    <tr style=\"text-align: right;\">\n",
       "      <th></th>\n",
       "      <th>Crossing</th>\n",
       "      <th>Finishing</th>\n",
       "      <th>ShortPassing</th>\n",
       "      <th>Dribbling</th>\n",
       "      <th>LongPassing</th>\n",
       "      <th>BallControl</th>\n",
       "      <th>Acceleration</th>\n",
       "      <th>SprintSpeed</th>\n",
       "      <th>Agility</th>\n",
       "      <th>Stamina</th>\n",
       "      <th>...</th>\n",
       "      <th>Body Type_Akinfenwa</th>\n",
       "      <th>Body Type_C. Ronaldo</th>\n",
       "      <th>Body Type_Courtois</th>\n",
       "      <th>Body Type_Lean</th>\n",
       "      <th>Body Type_Messi</th>\n",
       "      <th>Body Type_Neymar</th>\n",
       "      <th>Body Type_Normal</th>\n",
       "      <th>Body Type_PLAYER_BODY_TYPE_25</th>\n",
       "      <th>Body Type_Shaqiri</th>\n",
       "      <th>Body Type_Stocky</th>\n",
       "    </tr>\n",
       "  </thead>\n",
       "  <tbody>\n",
       "    <tr>\n",
       "      <th>0</th>\n",
       "      <td>84.0</td>\n",
       "      <td>95.0</td>\n",
       "      <td>90.0</td>\n",
       "      <td>97.0</td>\n",
       "      <td>87.0</td>\n",
       "      <td>96.0</td>\n",
       "      <td>91.0</td>\n",
       "      <td>86.0</td>\n",
       "      <td>91.0</td>\n",
       "      <td>72.0</td>\n",
       "      <td>...</td>\n",
       "      <td>False</td>\n",
       "      <td>False</td>\n",
       "      <td>False</td>\n",
       "      <td>False</td>\n",
       "      <td>True</td>\n",
       "      <td>False</td>\n",
       "      <td>False</td>\n",
       "      <td>False</td>\n",
       "      <td>False</td>\n",
       "      <td>False</td>\n",
       "    </tr>\n",
       "    <tr>\n",
       "      <th>1</th>\n",
       "      <td>84.0</td>\n",
       "      <td>94.0</td>\n",
       "      <td>81.0</td>\n",
       "      <td>88.0</td>\n",
       "      <td>77.0</td>\n",
       "      <td>94.0</td>\n",
       "      <td>89.0</td>\n",
       "      <td>91.0</td>\n",
       "      <td>87.0</td>\n",
       "      <td>88.0</td>\n",
       "      <td>...</td>\n",
       "      <td>False</td>\n",
       "      <td>True</td>\n",
       "      <td>False</td>\n",
       "      <td>False</td>\n",
       "      <td>False</td>\n",
       "      <td>False</td>\n",
       "      <td>False</td>\n",
       "      <td>False</td>\n",
       "      <td>False</td>\n",
       "      <td>False</td>\n",
       "    </tr>\n",
       "    <tr>\n",
       "      <th>2</th>\n",
       "      <td>79.0</td>\n",
       "      <td>87.0</td>\n",
       "      <td>84.0</td>\n",
       "      <td>96.0</td>\n",
       "      <td>78.0</td>\n",
       "      <td>95.0</td>\n",
       "      <td>94.0</td>\n",
       "      <td>90.0</td>\n",
       "      <td>96.0</td>\n",
       "      <td>81.0</td>\n",
       "      <td>...</td>\n",
       "      <td>False</td>\n",
       "      <td>False</td>\n",
       "      <td>False</td>\n",
       "      <td>False</td>\n",
       "      <td>False</td>\n",
       "      <td>True</td>\n",
       "      <td>False</td>\n",
       "      <td>False</td>\n",
       "      <td>False</td>\n",
       "      <td>False</td>\n",
       "    </tr>\n",
       "    <tr>\n",
       "      <th>3</th>\n",
       "      <td>17.0</td>\n",
       "      <td>13.0</td>\n",
       "      <td>50.0</td>\n",
       "      <td>18.0</td>\n",
       "      <td>51.0</td>\n",
       "      <td>42.0</td>\n",
       "      <td>57.0</td>\n",
       "      <td>58.0</td>\n",
       "      <td>60.0</td>\n",
       "      <td>43.0</td>\n",
       "      <td>...</td>\n",
       "      <td>False</td>\n",
       "      <td>False</td>\n",
       "      <td>False</td>\n",
       "      <td>True</td>\n",
       "      <td>False</td>\n",
       "      <td>False</td>\n",
       "      <td>False</td>\n",
       "      <td>False</td>\n",
       "      <td>False</td>\n",
       "      <td>False</td>\n",
       "    </tr>\n",
       "    <tr>\n",
       "      <th>4</th>\n",
       "      <td>93.0</td>\n",
       "      <td>82.0</td>\n",
       "      <td>92.0</td>\n",
       "      <td>86.0</td>\n",
       "      <td>91.0</td>\n",
       "      <td>91.0</td>\n",
       "      <td>78.0</td>\n",
       "      <td>76.0</td>\n",
       "      <td>79.0</td>\n",
       "      <td>90.0</td>\n",
       "      <td>...</td>\n",
       "      <td>False</td>\n",
       "      <td>False</td>\n",
       "      <td>False</td>\n",
       "      <td>False</td>\n",
       "      <td>False</td>\n",
       "      <td>False</td>\n",
       "      <td>True</td>\n",
       "      <td>False</td>\n",
       "      <td>False</td>\n",
       "      <td>False</td>\n",
       "    </tr>\n",
       "  </tbody>\n",
       "</table>\n",
       "<p>5 rows × 59 columns</p>\n",
       "</div>"
      ],
      "text/plain": [
       "   Crossing  Finishing  ShortPassing  Dribbling  LongPassing  BallControl  \\\n",
       "0      84.0       95.0          90.0       97.0         87.0         96.0   \n",
       "1      84.0       94.0          81.0       88.0         77.0         94.0   \n",
       "2      79.0       87.0          84.0       96.0         78.0         95.0   \n",
       "3      17.0       13.0          50.0       18.0         51.0         42.0   \n",
       "4      93.0       82.0          92.0       86.0         91.0         91.0   \n",
       "\n",
       "   Acceleration  SprintSpeed  Agility  Stamina  ...  Body Type_Akinfenwa  \\\n",
       "0          91.0         86.0     91.0     72.0  ...                False   \n",
       "1          89.0         91.0     87.0     88.0  ...                False   \n",
       "2          94.0         90.0     96.0     81.0  ...                False   \n",
       "3          57.0         58.0     60.0     43.0  ...                False   \n",
       "4          78.0         76.0     79.0     90.0  ...                False   \n",
       "\n",
       "   Body Type_C. Ronaldo  Body Type_Courtois  Body Type_Lean  Body Type_Messi  \\\n",
       "0                 False               False           False             True   \n",
       "1                  True               False           False            False   \n",
       "2                 False               False           False            False   \n",
       "3                 False               False            True            False   \n",
       "4                 False               False           False            False   \n",
       "\n",
       "   Body Type_Neymar  Body Type_Normal  Body Type_PLAYER_BODY_TYPE_25  \\\n",
       "0             False             False                          False   \n",
       "1             False             False                          False   \n",
       "2              True             False                          False   \n",
       "3             False             False                          False   \n",
       "4             False              True                          False   \n",
       "\n",
       "   Body Type_Shaqiri  Body Type_Stocky  \n",
       "0              False             False  \n",
       "1              False             False  \n",
       "2              False             False  \n",
       "3              False             False  \n",
       "4              False             False  \n",
       "\n",
       "[5 rows x 59 columns]"
      ]
     },
     "execution_count": 10,
     "metadata": {},
     "output_type": "execute_result"
    }
   ],
   "source": [
    "X.head()"
   ]
  },
  {
   "cell_type": "code",
   "execution_count": 11,
   "metadata": {},
   "outputs": [
    {
     "data": {
      "text/plain": [
       "59"
      ]
     },
     "execution_count": 11,
     "metadata": {},
     "output_type": "execute_result"
    }
   ],
   "source": [
    "len(X.columns)"
   ]
  },
  {
   "cell_type": "markdown",
   "metadata": {},
   "source": [
    "### Set some fixed set of features"
   ]
  },
  {
   "cell_type": "code",
   "execution_count": 12,
   "metadata": {},
   "outputs": [],
   "source": [
    "feature_name = list(X.columns)\n",
    "# no of maximum features we need to select\n",
    "num_feats=30"
   ]
  },
  {
   "cell_type": "markdown",
   "metadata": {},
   "source": [
    "## Filter Feature Selection - Pearson Correlation"
   ]
  },
  {
   "cell_type": "markdown",
   "metadata": {},
   "source": [
    "### Pearson Correlation function"
   ]
  },
  {
   "cell_type": "code",
   "execution_count": 105,
   "metadata": {},
   "outputs": [],
   "source": [
    "def cor_selector(X, y, num_feats):\n",
    "    # Your code goes here (Multiple lines)\n",
    "    \n",
    "    \"\"\"\n",
    "    Perform feature selection using Pearson correlation with the target variable.\n",
    "\n",
    "    Parameters:\n",
    "    - X: DataFrame of features\n",
    "    - y: Series of target variable\n",
    "    - num_feats: Number of features to select\n",
    "\n",
    "    Returns:\n",
    "    - cor_support: Boolean mask indicating selected features\n",
    "    - cor_feature: List of selected feature names\n",
    "    \"\"\"\n",
    "    \n",
    "    # Concatenate features and target variable into a single DataFrame\n",
    "    all_data = pd.concat([X, y], axis=1)\n",
    "    \n",
    "    # Calculate Pearson correlation coefficients\n",
    "    cor_matrix = all_data.corr()\n",
    "    \n",
    "    # Calculate the absolute correlation coefficients with the target variable\n",
    "    cor_with_target = cor_matrix.iloc[:-1, -1].abs()\n",
    "    \n",
    "    # Select the top 'num_feats' features with the highest correlation with the target variable\n",
    "    cor_feature = cor_with_target.nlargest(num_feats).index.values\n",
    "    cor_support = X.columns.isin(cor_feature)\n",
    "    \n",
    "    # Your code ends here\n",
    "    return cor_support, cor_feature"
   ]
  },
  {
   "cell_type": "code",
   "execution_count": 106,
   "metadata": {},
   "outputs": [
    {
     "name": "stdout",
     "output_type": "stream",
     "text": [
      "30 selected features\n"
     ]
    }
   ],
   "source": [
    "cor_support, cor_feature = cor_selector(X, y, num_feats)\n",
    "print(str(len(cor_feature)), 'selected features')"
   ]
  },
  {
   "cell_type": "markdown",
   "metadata": {},
   "source": [
    "### List the selected features from Pearson Correlation"
   ]
  },
  {
   "cell_type": "code",
   "execution_count": 15,
   "metadata": {},
   "outputs": [
    {
     "data": {
      "text/plain": [
       "Index(['Reactions', 'Body Type_C. Ronaldo', 'Body Type_Messi',\n",
       "       'Body Type_Neymar', 'Body Type_Courtois',\n",
       "       'Body Type_PLAYER_BODY_TYPE_25', 'Position_LF', 'Position_RF',\n",
       "       'ShortPassing', 'Volleys', 'LongPassing', 'FKAccuracy', 'BallControl',\n",
       "       'Finishing', 'LongShots', 'ShotPower', 'Dribbling', 'Crossing',\n",
       "       'Agility', 'Weak Foot', 'Stamina', 'Strength', 'SprintSpeed',\n",
       "       'Acceleration', 'Position_LAM', 'Aggression', 'Balance', 'Position_LW',\n",
       "       'Interceptions', 'Position_CM'],\n",
       "      dtype='object')"
      ]
     },
     "execution_count": 15,
     "metadata": {},
     "output_type": "execute_result"
    }
   ],
   "source": [
    "cor_feature"
   ]
  },
  {
   "cell_type": "markdown",
   "metadata": {},
   "source": [
    "## Filter Feature Selection - Chi-Sqaure"
   ]
  },
  {
   "cell_type": "code",
   "execution_count": 16,
   "metadata": {},
   "outputs": [],
   "source": [
    "from sklearn.feature_selection import SelectKBest\n",
    "from sklearn.feature_selection import chi2\n",
    "from sklearn.preprocessing import MinMaxScaler"
   ]
  },
  {
   "cell_type": "markdown",
   "metadata": {},
   "source": [
    "### Chi-Squared Selector function"
   ]
  },
  {
   "cell_type": "code",
   "execution_count": 17,
   "metadata": {},
   "outputs": [],
   "source": [
    "def chi_squared_selector(X, y, num_feats):\n",
    "    # Your code goes here (Multiple lines)\n",
    "    \n",
    "    \"\"\"\n",
    "    Perform feature selection using the chi-square test after scaling features.\n",
    "\n",
    "    Parameters:\n",
    "    - X: DataFrame of features\n",
    "    - y: Series of target variable (categorical)\n",
    "    - num_feats: Number of features to select\n",
    "\n",
    "    Returns:\n",
    "    - chi_support: Boolean mask indicating selected features\n",
    "    - chi_feature: List of selected feature names\n",
    "    \"\"\"\n",
    "    \n",
    "    # Scale the features using MinMaxScaler\n",
    "    scaler = MinMaxScaler()\n",
    "    X_scaled = pd.DataFrame(scaler.fit_transform(X), columns=X.columns)\n",
    "    \n",
    "    # SelectKBest with chi2 as the score function\n",
    "    chi_selector = SelectKBest(chi2, k=num_feats)\n",
    "    chi_selector.fit(X_scaled, y)\n",
    "    \n",
    "    # Boolean mask indicating selected features\n",
    "    chi_support = chi_selector.get_support()\n",
    "    \n",
    "    # List of selected feature names\n",
    "    chi_feature = X.columns[chi_support]\n",
    "    \n",
    "    # Your code ends here\n",
    "    return chi_support, chi_feature"
   ]
  },
  {
   "cell_type": "code",
   "execution_count": 18,
   "metadata": {},
   "outputs": [
    {
     "name": "stdout",
     "output_type": "stream",
     "text": [
      "30 selected features\n"
     ]
    }
   ],
   "source": [
    "chi_support, chi_feature = chi_squared_selector(X, y,num_feats)\n",
    "print(str(len(chi_feature)), 'selected features')"
   ]
  },
  {
   "cell_type": "markdown",
   "metadata": {},
   "source": [
    "### List the selected features from Chi-Square "
   ]
  },
  {
   "cell_type": "code",
   "execution_count": 19,
   "metadata": {},
   "outputs": [
    {
     "data": {
      "text/plain": [
       "Index(['Crossing', 'Finishing', 'ShortPassing', 'Dribbling', 'LongPassing',\n",
       "       'BallControl', 'Agility', 'Volleys', 'FKAccuracy', 'Reactions',\n",
       "       'ShotPower', 'LongShots', 'Weak Foot', 'Position_CB', 'Position_CM',\n",
       "       'Position_LAM', 'Position_LCB', 'Position_LCM', 'Position_LF',\n",
       "       'Position_LS', 'Position_LW', 'Position_RB', 'Position_RCM',\n",
       "       'Position_RF', 'Body Type_C. Ronaldo', 'Body Type_Courtois',\n",
       "       'Body Type_Lean', 'Body Type_Messi', 'Body Type_Neymar',\n",
       "       'Body Type_PLAYER_BODY_TYPE_25'],\n",
       "      dtype='object')"
      ]
     },
     "execution_count": 19,
     "metadata": {},
     "output_type": "execute_result"
    }
   ],
   "source": [
    "chi_feature"
   ]
  },
  {
   "cell_type": "markdown",
   "metadata": {},
   "source": [
    "## Wrapper Feature Selection - Recursive Feature Elimination"
   ]
  },
  {
   "cell_type": "code",
   "execution_count": 20,
   "metadata": {},
   "outputs": [],
   "source": [
    "from sklearn.feature_selection import RFE\n",
    "from sklearn.linear_model import LogisticRegression\n",
    "from sklearn.preprocessing import MinMaxScaler"
   ]
  },
  {
   "cell_type": "markdown",
   "metadata": {},
   "source": [
    "### RFE Selector function"
   ]
  },
  {
   "cell_type": "code",
   "execution_count": 21,
   "metadata": {},
   "outputs": [],
   "source": [
    "def rfe_selector(X, y, num_feats):\n",
    "    # Your code goes here (Multiple lines)\n",
    "    \n",
    "    \"\"\"\n",
    "    Perform feature selection using Recursive Feature Elimination (RFE) with MinMaxScaler.\n",
    "\n",
    "    Parameters:\n",
    "    - X: DataFrame of features\n",
    "    - y: Series of target variable\n",
    "    - num_feats: Number of features to select\n",
    "\n",
    "    Returns:\n",
    "    - rfe_support: Boolean mask indicating selected features\n",
    "    - rfe_feature: List of selected feature names\n",
    "    \"\"\"\n",
    "    \n",
    "    # Scale the features using MinMaxScaler\n",
    "    scaler = MinMaxScaler()\n",
    "    X_scaled = pd.DataFrame(scaler.fit_transform(X), columns=X.columns)\n",
    "    \n",
    "    # Create an estimator (e.g., Logistic Regression)\n",
    "    estimator = LogisticRegression()\n",
    "    \n",
    "    # RFE with the chosen estimator\n",
    "    rfe_selector = RFE(estimator, n_features_to_select=num_feats)\n",
    "    rfe_selector = rfe_selector.fit(X_scaled, y)\n",
    "    \n",
    "    # Boolean mask indicating selected features\n",
    "    rfe_support = rfe_selector.support_\n",
    "    \n",
    "    # List of selected feature names\n",
    "    rfe_feature = X.columns[rfe_support]\n",
    "    \n",
    "    # Your code ends here\n",
    "    return rfe_support, rfe_feature"
   ]
  },
  {
   "cell_type": "code",
   "execution_count": 22,
   "metadata": {},
   "outputs": [
    {
     "name": "stdout",
     "output_type": "stream",
     "text": [
      "30 selected features\n"
     ]
    }
   ],
   "source": [
    "rfe_support, rfe_feature = rfe_selector(X, y,num_feats)\n",
    "print(str(len(rfe_feature)), 'selected features')"
   ]
  },
  {
   "cell_type": "markdown",
   "metadata": {},
   "source": [
    "### List the selected features from RFE"
   ]
  },
  {
   "cell_type": "code",
   "execution_count": 23,
   "metadata": {},
   "outputs": [
    {
     "data": {
      "text/plain": [
       "Index(['Finishing', 'ShortPassing', 'LongPassing', 'BallControl',\n",
       "       'Acceleration', 'SprintSpeed', 'Agility', 'Volleys', 'FKAccuracy',\n",
       "       'Reactions', 'Strength', 'Weak Foot', 'Position_CAM', 'Position_CM',\n",
       "       'Position_GK', 'Position_LAM', 'Position_LCB', 'Position_LF',\n",
       "       'Position_LM', 'Position_LW', 'Position_RB', 'Position_RCB',\n",
       "       'Position_RF', 'Position_RM', 'Position_RW', 'Body Type_Courtois',\n",
       "       'Body Type_Lean', 'Body Type_Normal', 'Body Type_PLAYER_BODY_TYPE_25',\n",
       "       'Body Type_Stocky'],\n",
       "      dtype='object')"
      ]
     },
     "execution_count": 23,
     "metadata": {},
     "output_type": "execute_result"
    }
   ],
   "source": [
    "rfe_feature"
   ]
  },
  {
   "cell_type": "markdown",
   "metadata": {},
   "source": [
    "## Embedded Selection - Lasso: SelectFromModel"
   ]
  },
  {
   "cell_type": "code",
   "execution_count": 24,
   "metadata": {},
   "outputs": [],
   "source": [
    "from sklearn.feature_selection import SelectFromModel\n",
    "from sklearn.linear_model import LogisticRegression\n",
    "from sklearn.preprocessing import MinMaxScaler"
   ]
  },
  {
   "cell_type": "code",
   "execution_count": 66,
   "metadata": {},
   "outputs": [],
   "source": [
    "def embedded_log_reg_selector(X, y, num_feats):\n",
    "    # Your code goes here (Multiple lines)\n",
    "    \n",
    "    \"\"\"\n",
    "    Perform embedded feature selection using Logistic Regression with L1 regularization.\n",
    "\n",
    "    Parameters:\n",
    "    - X: DataFrame of features\n",
    "    - y: Series of target variable\n",
    "    - num_feats: Number of features to select\n",
    "\n",
    "    Returns:\n",
    "    - embedded_lr_support: Boolean mask indicating selected features\n",
    "    - embedded_lr_feature: List of selected feature names\n",
    "    \"\"\"\n",
    "    \n",
    "    # Scale the features using MinMaxScaler\n",
    "    scaler = MinMaxScaler()\n",
    "    X_scaled = pd.DataFrame(scaler.fit_transform(X), columns=X.columns)\n",
    "    \n",
    "    # Create Logistic Regression model with L1 regularization\n",
    "    lasso_selector = LogisticRegression(penalty='l1', solver='liblinear', C=2.8)\n",
    "    \n",
    "    # SelectFromModel with the chosen estimator\n",
    "    embedded_lr_selector = SelectFromModel(lasso_selector, max_features=num_feats)\n",
    "    embedded_lr_selector.fit(X_scaled, y)\n",
    "    \n",
    "    # Boolean mask indicating selected features\n",
    "    embedded_lr_support = embedded_lr_selector.get_support()\n",
    "    \n",
    "    # List of selected feature names\n",
    "    embedded_lr_feature = X.columns[embedded_lr_support]\n",
    "    \n",
    "    # Your code ends here\n",
    "    return embedded_lr_support, embedded_lr_feature"
   ]
  },
  {
   "cell_type": "code",
   "execution_count": 67,
   "metadata": {},
   "outputs": [
    {
     "name": "stdout",
     "output_type": "stream",
     "text": [
      "30 selected features\n"
     ]
    }
   ],
   "source": [
    "embedded_lr_support, embedded_lr_feature = embedded_log_reg_selector(X, y, num_feats)\n",
    "print(str(len(embedded_lr_feature)), 'selected features')"
   ]
  },
  {
   "cell_type": "code",
   "execution_count": 68,
   "metadata": {},
   "outputs": [
    {
     "data": {
      "text/plain": [
       "Index(['Finishing', 'LongPassing', 'SprintSpeed', 'Stamina', 'FKAccuracy',\n",
       "       'Reactions', 'Balance', 'Strength', 'Aggression',\n",
       "       'Preferred Foot_Right', 'Position_CAM', 'Position_CB', 'Position_CDM',\n",
       "       'Position_CF', 'Position_CM', 'Position_GK', 'Position_LAM',\n",
       "       'Position_LCB', 'Position_LM', 'Position_LW', 'Position_RB',\n",
       "       'Position_RCB', 'Position_RDM', 'Position_RM', 'Position_RS',\n",
       "       'Position_RW', 'Position_ST', 'Body Type_Courtois', 'Body Type_Lean',\n",
       "       'Body Type_Stocky'],\n",
       "      dtype='object')"
      ]
     },
     "execution_count": 68,
     "metadata": {},
     "output_type": "execute_result"
    }
   ],
   "source": [
    "embedded_lr_feature"
   ]
  },
  {
   "cell_type": "markdown",
   "metadata": {},
   "source": [
    "## Tree based(Random Forest): SelectFromModel"
   ]
  },
  {
   "cell_type": "code",
   "execution_count": 28,
   "metadata": {},
   "outputs": [],
   "source": [
    "from sklearn.feature_selection import SelectFromModel\n",
    "from sklearn.ensemble import RandomForestClassifier"
   ]
  },
  {
   "cell_type": "code",
   "execution_count": 73,
   "metadata": {},
   "outputs": [],
   "source": [
    "def embedded_rf_selector(X, y, num_feats):\n",
    "    # Your code goes here (Multiple lines)\n",
    "    \n",
    "    \"\"\"\n",
    "    Perform embedded feature selection using Random Forest.\n",
    "\n",
    "    Parameters:\n",
    "    - X: DataFrame of features\n",
    "    - y: Series of target variable\n",
    "    - num_feats: Number of features to select\n",
    "\n",
    "    Returns:\n",
    "    - embedded_rf_support: Boolean mask indicating selected features\n",
    "    - embedded_rf_feature: List of selected feature names\n",
    "    \"\"\"\n",
    "    \n",
    "    # Scale the features using MinMaxScaler\n",
    "    scaler = MinMaxScaler()\n",
    "    X_scaled = pd.DataFrame(scaler.fit_transform(X), columns=X.columns)\n",
    "    \n",
    "    # Create Random Forest model\n",
    "    rf_selector = RandomForestClassifier(n_estimators=100, random_state=42)\n",
    "    \n",
    "    rf_selector.fit(X_scaled, y)\n",
    "    \n",
    "    feature_importances = rf_selector.feature_importances_\n",
    "    sorted_feature_indices = feature_importances.argsort()[::-1]\n",
    "    selected_feature_indices = sorted_feature_indices[:num_feats]\n",
    "    \n",
    "    embedded_rf_support = np.zeros(X.shape[1], dtype=bool)\n",
    "    embedded_rf_support[selected_feature_indices] = True\n",
    "    \n",
    "    embedded_rf_feature = X.columns[embedded_rf_support]\n",
    "    \n",
    "    return embedded_rf_support, embedded_rf_feature"
   ]
  },
  {
   "cell_type": "code",
   "execution_count": 74,
   "metadata": {},
   "outputs": [
    {
     "name": "stdout",
     "output_type": "stream",
     "text": [
      "30 selected features\n"
     ]
    }
   ],
   "source": [
    "embedder_rf_support, embedder_rf_feature = embedded_rf_selector(X, y, num_feats)\n",
    "print(str(len(embedder_rf_feature)), 'selected features')"
   ]
  },
  {
   "cell_type": "code",
   "execution_count": 75,
   "metadata": {},
   "outputs": [
    {
     "data": {
      "text/plain": [
       "Index(['Crossing', 'Finishing', 'ShortPassing', 'Dribbling', 'LongPassing',\n",
       "       'BallControl', 'Acceleration', 'SprintSpeed', 'Agility', 'Stamina',\n",
       "       'Volleys', 'FKAccuracy', 'Reactions', 'Balance', 'ShotPower',\n",
       "       'Strength', 'LongShots', 'Aggression', 'Interceptions', 'Weak Foot',\n",
       "       'Preferred Foot_Left', 'Preferred Foot_Right', 'Position_CB',\n",
       "       'Position_CDM', 'Position_LCB', 'Position_LW', 'Position_RCB',\n",
       "       'Body Type_Courtois', 'Body Type_Lean', 'Body Type_Normal'],\n",
       "      dtype='object')"
      ]
     },
     "execution_count": 75,
     "metadata": {},
     "output_type": "execute_result"
    }
   ],
   "source": [
    "embedder_rf_feature"
   ]
  },
  {
   "cell_type": "markdown",
   "metadata": {},
   "source": [
    "## Tree based(Light GBM): SelectFromModel"
   ]
  },
  {
   "cell_type": "code",
   "execution_count": 32,
   "metadata": {},
   "outputs": [
    {
     "name": "stdout",
     "output_type": "stream",
     "text": [
      "Collecting lightgbm\n",
      "  Obtaining dependency information for lightgbm from https://files.pythonhosted.org/packages/e1/4c/4685ccfae9806f561de716e32549190c1f533dde5bcadaf83bdf23972cf0/lightgbm-4.3.0-py3-none-win_amd64.whl.metadata\n",
      "  Downloading lightgbm-4.3.0-py3-none-win_amd64.whl.metadata (19 kB)\n",
      "Requirement already satisfied: numpy in c:\\users\\vidit\\anaconda3\\lib\\site-packages (from lightgbm) (1.24.3)\n",
      "Requirement already satisfied: scipy in c:\\users\\vidit\\anaconda3\\lib\\site-packages (from lightgbm) (1.11.1)\n",
      "Downloading lightgbm-4.3.0-py3-none-win_amd64.whl (1.3 MB)\n",
      "   ---------------------------------------- 0.0/1.3 MB ? eta -:--:--\n",
      "    --------------------------------------- 0.0/1.3 MB 660.6 kB/s eta 0:00:02\n",
      "   ----- ---------------------------------- 0.2/1.3 MB 2.4 MB/s eta 0:00:01\n",
      "   ---------------------------------------  1.3/1.3 MB 12.1 MB/s eta 0:00:01\n",
      "   ---------------------------------------- 1.3/1.3 MB 10.6 MB/s eta 0:00:00\n",
      "Installing collected packages: lightgbm\n",
      "Successfully installed lightgbm-4.3.0\n",
      "Note: you may need to restart the kernel to use updated packages.\n"
     ]
    }
   ],
   "source": [
    "#pip install lightgbm"
   ]
  },
  {
   "cell_type": "code",
   "execution_count": 33,
   "metadata": {},
   "outputs": [],
   "source": [
    "from sklearn.feature_selection import SelectFromModel\n",
    "from lightgbm import LGBMClassifier"
   ]
  },
  {
   "cell_type": "code",
   "execution_count": 81,
   "metadata": {},
   "outputs": [],
   "source": [
    "def embedded_lgbm_selector(X, y, num_feats):\n",
    "    # Your code goes here (Multiple lines)\n",
    "    \n",
    "    \"\"\"\n",
    "    Perform embedded feature selection using LightGBM.\n",
    "\n",
    "    Parameters:\n",
    "    - X: DataFrame of features\n",
    "    - y: Series of target variable\n",
    "    - num_feats: Number of features to select\n",
    "\n",
    "    Returns:\n",
    "    - embedded_lgbm_support: Boolean mask indicating selected features\n",
    "    - embedded_lgbm_feature: List of selected feature names\n",
    "    \"\"\"\n",
    "    \n",
    "    # Scale the features using MinMaxScaler\n",
    "    scaler = MinMaxScaler()\n",
    "    X_scaled = pd.DataFrame(scaler.fit_transform(X), columns=X.columns)\n",
    "    \n",
    "    # Create LightGBM model\n",
    "    lgbm_selector = LGBMClassifier(n_estimators=100, random_state=42)  # Adjust parameters as needed\n",
    "    lgbm_selector.fit(X_scaled, y)\n",
    "    \n",
    "    feature_importances = lgbm_selector.feature_importances_\n",
    "     \n",
    "    sorted_feature_indices = np.argsort(feature_importances)[::-1]\n",
    "    selected_feature_indices = sorted_feature_indices[:num_feats]\n",
    "    \n",
    "    # Boolean mask indicating selected features\n",
    "    embedded_lgbm_support = np.zeros(X.shape[1], dtype=bool)\n",
    "    embedded_lgbm_support[selected_feature_indices] = True\n",
    "    \n",
    "    # List of selected feature names\n",
    "    embedded_lgbm_feature = X.columns[embedded_lgbm_support]\n",
    "    \n",
    "    # Your code ends here\n",
    "    return embedded_lgbm_support, embedded_lgbm_feature"
   ]
  },
  {
   "cell_type": "code",
   "execution_count": 82,
   "metadata": {},
   "outputs": [
    {
     "name": "stdout",
     "output_type": "stream",
     "text": [
      "[LightGBM] [Warning] Found whitespace in feature_names, replace with underlines\n",
      "[LightGBM] [Info] Number of positive: 55, number of negative: 18104\n",
      "[LightGBM] [Info] Auto-choosing col-wise multi-threading, the overhead of testing was 0.003410 seconds.\n",
      "You can set `force_col_wise=true` to remove the overhead.\n",
      "[LightGBM] [Info] Total Bins 1653\n",
      "[LightGBM] [Info] Number of data points in the train set: 18159, number of used features: 50\n",
      "[LightGBM] [Info] [binary:BoostFromScore]: pavg=0.003029 -> initscore=-5.796555\n",
      "[LightGBM] [Info] Start training from score -5.796555\n",
      "[LightGBM] [Warning] No further splits with positive gain, best gain: -inf\n",
      "[LightGBM] [Warning] No further splits with positive gain, best gain: -inf\n",
      "[LightGBM] [Warning] No further splits with positive gain, best gain: -inf\n",
      "[LightGBM] [Warning] No further splits with positive gain, best gain: -inf\n",
      "[LightGBM] [Warning] No further splits with positive gain, best gain: -inf\n",
      "[LightGBM] [Warning] No further splits with positive gain, best gain: -inf\n",
      "[LightGBM] [Warning] No further splits with positive gain, best gain: -inf\n",
      "[LightGBM] [Warning] No further splits with positive gain, best gain: -inf\n",
      "[LightGBM] [Warning] No further splits with positive gain, best gain: -inf\n",
      "[LightGBM] [Warning] No further splits with positive gain, best gain: -inf\n",
      "[LightGBM] [Warning] No further splits with positive gain, best gain: -inf\n",
      "[LightGBM] [Warning] No further splits with positive gain, best gain: -inf\n",
      "[LightGBM] [Warning] No further splits with positive gain, best gain: -inf\n",
      "[LightGBM] [Warning] No further splits with positive gain, best gain: -inf\n",
      "[LightGBM] [Warning] No further splits with positive gain, best gain: -inf\n",
      "[LightGBM] [Warning] No further splits with positive gain, best gain: -inf\n",
      "[LightGBM] [Warning] No further splits with positive gain, best gain: -inf\n",
      "30 selected features\n"
     ]
    }
   ],
   "source": [
    "embedded_lgbm_support, embedded_lgbm_feature = embedded_lgbm_selector(X, y, num_feats)\n",
    "print(str(len(embedded_lgbm_feature)), 'selected features')"
   ]
  },
  {
   "cell_type": "code",
   "execution_count": 83,
   "metadata": {},
   "outputs": [
    {
     "data": {
      "text/plain": [
       "Index(['Crossing', 'Finishing', 'ShortPassing', 'Dribbling', 'LongPassing',\n",
       "       'BallControl', 'Acceleration', 'SprintSpeed', 'Agility', 'Stamina',\n",
       "       'Volleys', 'FKAccuracy', 'Reactions', 'Balance', 'ShotPower',\n",
       "       'Strength', 'LongShots', 'Aggression', 'Interceptions', 'Weak Foot',\n",
       "       'Preferred Foot_Left', 'Preferred Foot_Right', 'Position_CB',\n",
       "       'Position_LCB', 'Position_LM', 'Position_LW', 'Position_RB',\n",
       "       'Position_RCB', 'Body Type_Lean', 'Body Type_Normal'],\n",
       "      dtype='object')"
      ]
     },
     "execution_count": 83,
     "metadata": {},
     "output_type": "execute_result"
    }
   ],
   "source": [
    "embedded_lgbm_feature"
   ]
  },
  {
   "cell_type": "markdown",
   "metadata": {},
   "source": [
    "## Putting all of it together: AutoFeatureSelector Tool"
   ]
  },
  {
   "cell_type": "code",
   "execution_count": 111,
   "metadata": {},
   "outputs": [
    {
     "data": {
      "text/html": [
       "<div>\n",
       "<style scoped>\n",
       "    .dataframe tbody tr th:only-of-type {\n",
       "        vertical-align: middle;\n",
       "    }\n",
       "\n",
       "    .dataframe tbody tr th {\n",
       "        vertical-align: top;\n",
       "    }\n",
       "\n",
       "    .dataframe thead th {\n",
       "        text-align: right;\n",
       "    }\n",
       "</style>\n",
       "<table border=\"1\" class=\"dataframe\">\n",
       "  <thead>\n",
       "    <tr style=\"text-align: right;\">\n",
       "      <th></th>\n",
       "      <th>Display</th>\n",
       "    </tr>\n",
       "  </thead>\n",
       "  <tbody>\n",
       "    <tr>\n",
       "      <th>1</th>\n",
       "      <td>Reactions (6)</td>\n",
       "    </tr>\n",
       "    <tr>\n",
       "      <th>2</th>\n",
       "      <td>Position_LW (6)</td>\n",
       "    </tr>\n",
       "    <tr>\n",
       "      <th>3</th>\n",
       "      <td>LongPassing (6)</td>\n",
       "    </tr>\n",
       "    <tr>\n",
       "      <th>4</th>\n",
       "      <td>Finishing (6)</td>\n",
       "    </tr>\n",
       "    <tr>\n",
       "      <th>5</th>\n",
       "      <td>FKAccuracy (6)</td>\n",
       "    </tr>\n",
       "    <tr>\n",
       "      <th>6</th>\n",
       "      <td>Weak Foot (5)</td>\n",
       "    </tr>\n",
       "    <tr>\n",
       "      <th>7</th>\n",
       "      <td>Volleys (5)</td>\n",
       "    </tr>\n",
       "    <tr>\n",
       "      <th>8</th>\n",
       "      <td>Strength (5)</td>\n",
       "    </tr>\n",
       "    <tr>\n",
       "      <th>9</th>\n",
       "      <td>SprintSpeed (5)</td>\n",
       "    </tr>\n",
       "    <tr>\n",
       "      <th>10</th>\n",
       "      <td>ShortPassing (5)</td>\n",
       "    </tr>\n",
       "    <tr>\n",
       "      <th>11</th>\n",
       "      <td>Position_LCB (5)</td>\n",
       "    </tr>\n",
       "    <tr>\n",
       "      <th>12</th>\n",
       "      <td>Body Type_Lean (5)</td>\n",
       "    </tr>\n",
       "    <tr>\n",
       "      <th>13</th>\n",
       "      <td>Body Type_Courtois (5)</td>\n",
       "    </tr>\n",
       "    <tr>\n",
       "      <th>14</th>\n",
       "      <td>BallControl (5)</td>\n",
       "    </tr>\n",
       "    <tr>\n",
       "      <th>15</th>\n",
       "      <td>Agility (5)</td>\n",
       "    </tr>\n",
       "    <tr>\n",
       "      <th>16</th>\n",
       "      <td>Stamina (4)</td>\n",
       "    </tr>\n",
       "    <tr>\n",
       "      <th>17</th>\n",
       "      <td>ShotPower (4)</td>\n",
       "    </tr>\n",
       "    <tr>\n",
       "      <th>18</th>\n",
       "      <td>Position_RCB (4)</td>\n",
       "    </tr>\n",
       "    <tr>\n",
       "      <th>19</th>\n",
       "      <td>Position_RB (4)</td>\n",
       "    </tr>\n",
       "    <tr>\n",
       "      <th>20</th>\n",
       "      <td>Position_LAM (4)</td>\n",
       "    </tr>\n",
       "    <tr>\n",
       "      <th>21</th>\n",
       "      <td>Position_CM (4)</td>\n",
       "    </tr>\n",
       "    <tr>\n",
       "      <th>22</th>\n",
       "      <td>Position_CB (4)</td>\n",
       "    </tr>\n",
       "    <tr>\n",
       "      <th>23</th>\n",
       "      <td>LongShots (4)</td>\n",
       "    </tr>\n",
       "    <tr>\n",
       "      <th>24</th>\n",
       "      <td>Dribbling (4)</td>\n",
       "    </tr>\n",
       "    <tr>\n",
       "      <th>25</th>\n",
       "      <td>Crossing (4)</td>\n",
       "    </tr>\n",
       "    <tr>\n",
       "      <th>26</th>\n",
       "      <td>Balance (4)</td>\n",
       "    </tr>\n",
       "    <tr>\n",
       "      <th>27</th>\n",
       "      <td>Aggression (4)</td>\n",
       "    </tr>\n",
       "    <tr>\n",
       "      <th>28</th>\n",
       "      <td>Acceleration (4)</td>\n",
       "    </tr>\n",
       "    <tr>\n",
       "      <th>29</th>\n",
       "      <td>Preferred Foot_Right (3)</td>\n",
       "    </tr>\n",
       "    <tr>\n",
       "      <th>30</th>\n",
       "      <td>Position_RF (3)</td>\n",
       "    </tr>\n",
       "  </tbody>\n",
       "</table>\n",
       "</div>"
      ],
      "text/plain": [
       "                     Display\n",
       "1              Reactions (6)\n",
       "2            Position_LW (6)\n",
       "3            LongPassing (6)\n",
       "4              Finishing (6)\n",
       "5             FKAccuracy (6)\n",
       "6              Weak Foot (5)\n",
       "7                Volleys (5)\n",
       "8               Strength (5)\n",
       "9            SprintSpeed (5)\n",
       "10          ShortPassing (5)\n",
       "11          Position_LCB (5)\n",
       "12        Body Type_Lean (5)\n",
       "13    Body Type_Courtois (5)\n",
       "14           BallControl (5)\n",
       "15               Agility (5)\n",
       "16               Stamina (4)\n",
       "17             ShotPower (4)\n",
       "18          Position_RCB (4)\n",
       "19           Position_RB (4)\n",
       "20          Position_LAM (4)\n",
       "21           Position_CM (4)\n",
       "22           Position_CB (4)\n",
       "23             LongShots (4)\n",
       "24             Dribbling (4)\n",
       "25              Crossing (4)\n",
       "26               Balance (4)\n",
       "27            Aggression (4)\n",
       "28          Acceleration (4)\n",
       "29  Preferred Foot_Right (3)\n",
       "30           Position_RF (3)"
      ]
     },
     "execution_count": 111,
     "metadata": {},
     "output_type": "execute_result"
    }
   ],
   "source": [
    "pd.set_option('display.max_rows', None)\n",
    "# put all selection together\n",
    "\n",
    "feature_selection_df = pd.DataFrame({'Feature':feature_name, 'Pearson':cor_support, 'Chi-2':chi_support, 'RFE':rfe_support, 'Logistics':embedded_lr_support,\n",
    "                                    'Random Forest':embedder_rf_support, 'LightGBM':embedded_lgbm_support})\n",
    "\n",
    "numeric_columns = ['Pearson', 'Chi-2', 'RFE', 'Logistics', 'Random Forest', 'LightGBM']\n",
    "feature_selection_df[numeric_columns] = feature_selection_df[numeric_columns].astype(int)\n",
    "\n",
    "feature_selection_df['Total'] = np.sum(feature_selection_df[numeric_columns], axis=1)\n",
    "\n",
    "# Convert the 'Total' column to string before concatenating\n",
    "feature_selection_df['Total'] = feature_selection_df['Total'].astype(str)\n",
    "\n",
    "feature_selection_df['Display'] = feature_selection_df['Feature'] + ' (' + feature_selection_df['Total'] + ')'\n",
    "\n",
    "\n",
    "feature_selection_df = feature_selection_df.sort_values(['Total', 'Feature'], ascending=False)\n",
    "feature_selection_df.index = range(1, len(feature_selection_df)+1)\n",
    "feature_selection_df.head(num_feats)[['Display']]"
   ]
  },
  {
   "cell_type": "markdown",
   "metadata": {},
   "source": [
    "## Can you build a Python script that takes dataset and a list of different feature selection methods that you want to try and output the best (maximum votes) features from all methods?"
   ]
  },
  {
   "cell_type": "code",
   "execution_count": 112,
   "metadata": {},
   "outputs": [],
   "source": [
    "def preprocess_dataset(dataset_path):\n",
    "    \"\"\"\n",
    "    Preprocess the dataset for a machine learning task.\n",
    "\n",
    "    Parameters:\n",
    "    - dataset_path: Path to the CSV file containing the dataset.\n",
    "\n",
    "    Returns:\n",
    "    - X: DataFrame of features after preprocessing.\n",
    "    - y: Series representing the target variable after preprocessing.\n",
    "    - num_feats: Number of features to consider.\n",
    "    \"\"\"\n",
    "\n",
    "    # Read the dataset from the specified path\n",
    "    player_df = pd.read_csv(dataset_path)\n",
    "\n",
    "    # Define numerical and categorical columns of interest\n",
    "    numcols = ['Overall', 'Crossing', 'Finishing', 'ShortPassing', 'Dribbling', 'LongPassing', 'BallControl',\n",
    "               'Acceleration', 'SprintSpeed', 'Agility', 'Stamina', 'Volleys', 'FKAccuracy', 'Reactions', 'Balance',\n",
    "               'ShotPower', 'Strength', 'LongShots', 'Aggression', 'Interceptions']\n",
    "    catcols = ['Preferred Foot', 'Position', 'Body Type', 'Weak Foot']\n",
    "\n",
    "    # Select relevant columns from the dataset\n",
    "    player_df = player_df[numcols + catcols]\n",
    "\n",
    "    # Create a new DataFrame with numerical columns and one-hot encoded categorical columns\n",
    "    traindf = pd.concat([player_df[numcols], pd.get_dummies(player_df[catcols])], axis=1)\n",
    "\n",
    "    # Extract feature names\n",
    "    features = traindf.columns\n",
    "\n",
    "    # Drop rows with missing values\n",
    "    traindf = traindf.dropna()\n",
    "\n",
    "    # Reconstruct DataFrame with cleaned data and specified column order\n",
    "    traindf = pd.DataFrame(traindf, columns=features)\n",
    "\n",
    "    # Define the target variable 'y' based on a condition (Overall >= 87)\n",
    "    y = traindf['Overall'] >= 87\n",
    "\n",
    "    # Define the feature matrix 'X' by excluding the target variable\n",
    "    X = traindf.copy()\n",
    "    del X['Overall']\n",
    "\n",
    "    # Specify the desired number of features to consider\n",
    "    num_feats = 30\n",
    "\n",
    "    return X, y, num_feats\n"
   ]
  },
  {
   "cell_type": "code",
   "execution_count": 118,
   "metadata": {},
   "outputs": [],
   "source": [
    "def autoFeatureSelector(dataset_path, methods=[]):\n",
    "    # Parameters\n",
    "    # data - dataset to be analyzed (csv file)\n",
    "    # methods - various feature selection methods we outlined before, use them all here (list)\n",
    "    \n",
    "    # preprocessing\n",
    "    X, y, num_feats = preprocess_dataset(dataset_path)\n",
    "    \n",
    "    # Run every method we outlined above from the methods list and collect returned best features from every method\n",
    "    if 'pearson' in methods:\n",
    "        cor_support, cor_feature = cor_selector(X, y,num_feats)\n",
    "    if 'chi-square' in methods:\n",
    "        chi_support, chi_feature = chi_squared_selector(X, y,num_feats)\n",
    "    if 'rfe' in methods:\n",
    "        rfe_support, rfe_feature = rfe_selector(X, y,num_feats)\n",
    "    if 'log-reg' in methods:\n",
    "        embedded_lr_support, embedded_lr_feature = embedded_log_reg_selector(X, y, num_feats)\n",
    "    if 'rf' in methods:\n",
    "        embedded_rf_support, embedded_rf_feature = embedded_rf_selector(X, y, num_feats)\n",
    "    if 'lgbm' in methods:\n",
    "        embedded_lgbm_support, embedded_lgbm_feature = embedded_lgbm_selector(X, y, num_feats)\n",
    "    \n",
    "    # Combine all the above feature list and count the maximum set of features that got selected by all methods\n",
    "    #### Your Code starts here (Multiple lines)\n",
    "    \n",
    "    feature_dict = {}\n",
    "    \n",
    "    if 'pearson' in methods:\n",
    "        feature_dict['pearson'] = cor_feature\n",
    "    if 'chi-square' in methods:\n",
    "        feature_dict['chi-square'] = chi_feature\n",
    "    if 'rfe' in methods:\n",
    "        feature_dict['rfe'] = rfe_feature\n",
    "    if 'log-reg' in methods:\n",
    "        feature_dict['log-reg'] = embedded_lr_feature\n",
    "    if 'rf' in methods:\n",
    "        feature_dict['rf'] = embedded_rf_feature\n",
    "    if 'lgbm' in methods:\n",
    "        feature_dict['lgbm'] = embedded_lgbm_feature\n",
    "    \n",
    "    best_features = set.intersection(*map(set, feature_dict.values()))\n",
    "    \n",
    "    #### Your Code ends here\n",
    "    return best_features"
   ]
  },
  {
   "cell_type": "code",
   "execution_count": 119,
   "metadata": {},
   "outputs": [
    {
     "name": "stdout",
     "output_type": "stream",
     "text": [
      "[LightGBM] [Warning] Found whitespace in feature_names, replace with underlines\n",
      "[LightGBM] [Info] Number of positive: 55, number of negative: 18104\n",
      "[LightGBM] [Info] Auto-choosing col-wise multi-threading, the overhead of testing was 0.003210 seconds.\n",
      "You can set `force_col_wise=true` to remove the overhead.\n",
      "[LightGBM] [Info] Total Bins 1653\n",
      "[LightGBM] [Info] Number of data points in the train set: 18159, number of used features: 50\n",
      "[LightGBM] [Info] [binary:BoostFromScore]: pavg=0.003029 -> initscore=-5.796555\n",
      "[LightGBM] [Info] Start training from score -5.796555\n",
      "[LightGBM] [Warning] No further splits with positive gain, best gain: -inf\n",
      "[LightGBM] [Warning] No further splits with positive gain, best gain: -inf\n",
      "[LightGBM] [Warning] No further splits with positive gain, best gain: -inf\n",
      "[LightGBM] [Warning] No further splits with positive gain, best gain: -inf\n",
      "[LightGBM] [Warning] No further splits with positive gain, best gain: -inf\n",
      "[LightGBM] [Warning] No further splits with positive gain, best gain: -inf\n",
      "[LightGBM] [Warning] No further splits with positive gain, best gain: -inf\n",
      "[LightGBM] [Warning] No further splits with positive gain, best gain: -inf\n",
      "[LightGBM] [Warning] No further splits with positive gain, best gain: -inf\n",
      "[LightGBM] [Warning] No further splits with positive gain, best gain: -inf\n",
      "[LightGBM] [Warning] No further splits with positive gain, best gain: -inf\n",
      "[LightGBM] [Warning] No further splits with positive gain, best gain: -inf\n",
      "[LightGBM] [Warning] No further splits with positive gain, best gain: -inf\n",
      "[LightGBM] [Warning] No further splits with positive gain, best gain: -inf\n",
      "[LightGBM] [Warning] No further splits with positive gain, best gain: -inf\n",
      "[LightGBM] [Warning] No further splits with positive gain, best gain: -inf\n",
      "[LightGBM] [Warning] No further splits with positive gain, best gain: -inf\n"
     ]
    },
    {
     "data": {
      "text/plain": [
       "{'FKAccuracy', 'Finishing', 'LongPassing', 'Position_LW', 'Reactions'}"
      ]
     },
     "execution_count": 119,
     "metadata": {},
     "output_type": "execute_result"
    }
   ],
   "source": [
    "best_features = autoFeatureSelector(dataset_path=\"./fifa19.csv\", methods=['pearson', 'chi-square', 'rfe', 'log-reg', 'rf', 'lgbm'])\n",
    "best_features"
   ]
  },
  {
   "cell_type": "markdown",
   "metadata": {},
   "source": [
    "### Last, Can you turn this notebook into a python script, run it and submit the python (.py) file that takes dataset and list of methods as inputs and outputs the best features"
   ]
  },
  {
   "cell_type": "code",
   "execution_count": 125,
   "metadata": {},
   "outputs": [
    {
     "name": "stderr",
     "output_type": "stream",
     "text": [
      "usage: ipykernel_launcher.py [-h] [--dataset DATASET]\n",
      "                             [--methods METHODS [METHODS ...]]\n",
      "ipykernel_launcher.py: error: unrecognized arguments: -f C:\\Users\\vidit\\AppData\\Roaming\\jupyter\\runtime\\kernel-646f7ca6-0d21-431e-ab13-ab7a94c4bafd.json\n"
     ]
    },
    {
     "ename": "SystemExit",
     "evalue": "2",
     "output_type": "error",
     "traceback": [
      "An exception has occurred, use %tb to see the full traceback.\n",
      "\u001b[1;31mSystemExit\u001b[0m\u001b[1;31m:\u001b[0m 2\n"
     ]
    },
    {
     "name": "stderr",
     "output_type": "stream",
     "text": [
      "C:\\Users\\vidit\\anaconda3\\Lib\\site-packages\\IPython\\core\\interactiveshell.py:3534: UserWarning: To exit: use 'exit', 'quit', or Ctrl-D.\n",
      "  warn(\"To exit: use 'exit', 'quit', or Ctrl-D.\", stacklevel=1)\n"
     ]
    }
   ],
   "source": [
    "import argparse\n",
    "def preprocess_dataset(dataset_path):\n",
    "    \"\"\"\n",
    "    Preprocess the dataset for a machine learning task.\n",
    "\n",
    "    Parameters:\n",
    "    - dataset_path: Path to the CSV file containing the dataset.\n",
    "\n",
    "    Returns:\n",
    "    - X: DataFrame of features after preprocessing.\n",
    "    - y: Series representing the target variable after preprocessing.\n",
    "    - num_feats: Number of features to consider.\n",
    "    \"\"\"\n",
    "\n",
    "    # Read the dataset from the specified path\n",
    "    player_df = pd.read_csv(dataset_path)\n",
    "\n",
    "    # Define numerical and categorical columns of interest\n",
    "    numcols = ['Overall', 'Crossing', 'Finishing', 'ShortPassing', 'Dribbling', 'LongPassing', 'BallControl',\n",
    "               'Acceleration', 'SprintSpeed', 'Agility', 'Stamina', 'Volleys', 'FKAccuracy', 'Reactions', 'Balance',\n",
    "               'ShotPower', 'Strength', 'LongShots', 'Aggression', 'Interceptions']\n",
    "    catcols = ['Preferred Foot', 'Position', 'Body Type', 'Weak Foot']\n",
    "\n",
    "    # Select relevant columns from the dataset\n",
    "    player_df = player_df[numcols + catcols]\n",
    "\n",
    "    # Create a new DataFrame with numerical columns and one-hot encoded categorical columns\n",
    "    traindf = pd.concat([player_df[numcols], pd.get_dummies(player_df[catcols])], axis=1)\n",
    "\n",
    "    # Extract feature names\n",
    "    features = traindf.columns\n",
    "\n",
    "    # Drop rows with missing values\n",
    "    traindf = traindf.dropna()\n",
    "\n",
    "    # Reconstruct DataFrame with cleaned data and specified column order\n",
    "    traindf = pd.DataFrame(traindf, columns=features)\n",
    "\n",
    "    # Define the target variable 'y' based on a condition (Overall >= 87)\n",
    "    y = traindf['Overall'] >= 87\n",
    "\n",
    "    # Define the feature matrix 'X' by excluding the target variable\n",
    "    X = traindf.copy()\n",
    "    del X['Overall']\n",
    "\n",
    "    # Specify the desired number of features to consider\n",
    "    num_feats = 30\n",
    "\n",
    "    return X, y, num_feats\n",
    "\n",
    "\n",
    "    # Define the feature matrix 'X' by excluding the target variable\n",
    "    X = traindf.copy()\n",
    "    del X['Overall']\n",
    "\n",
    "    # Specify the desired number of features to consider\n",
    "    num_feats = 30\n",
    "\n",
    "    return X, y, num_feats\n",
    "\n",
    "\n",
    "def autoFeatureSelector(dataset_path, methods=[]):\n",
    "    # Parameters\n",
    "    # data - dataset to be analyzed (csv file)\n",
    "    # methods - various feature selection methods we outlined before, use them all here (list)\n",
    "    \n",
    "    # preprocessing\n",
    "    X, y, num_feats = preprocess_dataset(dataset_path)\n",
    "    \n",
    "    # Run every method we outlined above from the methods list and collect returned best features from every method\n",
    "    if 'pearson' in methods:\n",
    "        cor_support, cor_feature = cor_selector(X, y,num_feats)\n",
    "    if 'chi-square' in methods:\n",
    "        chi_support, chi_feature = chi_squared_selector(X, y,num_feats)\n",
    "    if 'rfe' in methods:\n",
    "        rfe_support, rfe_feature = rfe_selector(X, y,num_feats)\n",
    "    if 'log-reg' in methods:\n",
    "        embedded_lr_support, embedded_lr_feature = embedded_log_reg_selector(X, y, num_feats)\n",
    "    if 'rf' in methods:\n",
    "        embedded_rf_support, embedded_rf_feature = embedded_rf_selector(X, y, num_feats)\n",
    "    if 'lgbm' in methods:\n",
    "        embedded_lgbm_support, embedded_lgbm_feature = embedded_lgbm_selector(X, y, num_feats)\n",
    "    \n",
    "    # Combine all the above feature list and count the maximum set of features that got selected by all methods\n",
    "    #### Your Code starts here (Multiple lines)\n",
    "    \n",
    "    feature_dict = {}\n",
    "    \n",
    "    if 'pearson' in methods:\n",
    "        feature_dict['pearson'] = cor_feature\n",
    "    if 'chi-square' in methods:\n",
    "        feature_dict['chi-square'] = chi_feature\n",
    "    if 'rfe' in methods:\n",
    "        feature_dict['rfe'] = rfe_feature\n",
    "    if 'log-reg' in methods:\n",
    "        feature_dict['log-reg'] = embedded_lr_feature\n",
    "    if 'rf' in methods:\n",
    "        feature_dict['rf'] = embedded_rf_feature\n",
    "    if 'lgbm' in methods:\n",
    "        feature_dict['lgbm'] = embedded_lgbm_feature\n",
    "    \n",
    "    best_features = set.intersection(*map(set, feature_dict.values()))\n",
    "    \n",
    "    #### Your Code ends here\n",
    "    return best_features\n",
    "\n",
    "\n",
    "def main():\n",
    "    dataset_path = input(\"Enter the path to the fifa dataset (CSV file): \")\n",
    "    methods_str = input(\"Enter a space-separated list of feature selection methods: \")\n",
    "    methods = methods_str.split()\n",
    "\n",
    "    if not dataset_path or not methods:\n",
    "        print(\"Please provide both dataset path and feature selection methods.\")\n",
    "        return\n",
    "\n",
    "    best_features = autoFeatureSelector(dataset_path=dataset_path, methods=methods)\n",
    "    print(\"Best Features:\", best_features)\n",
    "\n",
    "if __name__ == \"__main__\":\n",
    "    main()"
   ]
  },
  {
   "cell_type": "code",
   "execution_count": null,
   "metadata": {},
   "outputs": [],
   "source": []
  }
 ],
 "metadata": {
  "kernelspec": {
   "display_name": "Python 3 (ipykernel)",
   "language": "python",
   "name": "python3"
  },
  "language_info": {
   "codemirror_mode": {
    "name": "ipython",
    "version": 3
   },
   "file_extension": ".py",
   "mimetype": "text/x-python",
   "name": "python",
   "nbconvert_exporter": "python",
   "pygments_lexer": "ipython3",
   "version": "3.11.5"
  }
 },
 "nbformat": 4,
 "nbformat_minor": 4
}
